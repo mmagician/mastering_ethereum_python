{
 "cells": [
  {
   "cell_type": "code",
   "execution_count": 1,
   "metadata": {},
   "outputs": [],
   "source": [
    "from Crypto.Hash import keccak"
   ]
  },
  {
   "cell_type": "code",
   "execution_count": 2,
   "metadata": {},
   "outputs": [],
   "source": [
    "from Crypto.Cipher import AES"
   ]
  },
  {
   "cell_type": "code",
   "execution_count": 3,
   "metadata": {},
   "outputs": [],
   "source": [
    "from Crypto.Util import Counter"
   ]
  },
  {
   "cell_type": "code",
   "execution_count": 4,
   "metadata": {},
   "outputs": [],
   "source": [
    "from Crypto.Protocol.KDF import scrypt"
   ]
  },
  {
   "cell_type": "code",
   "execution_count": 5,
   "metadata": {},
   "outputs": [],
   "source": [
    "from eth_keys import keys"
   ]
  },
  {
   "cell_type": "code",
   "execution_count": 6,
   "metadata": {},
   "outputs": [],
   "source": [
    "import json"
   ]
  },
  {
   "cell_type": "code",
   "execution_count": 7,
   "metadata": {},
   "outputs": [],
   "source": [
    "import uuid"
   ]
  },
  {
   "cell_type": "code",
   "execution_count": 8,
   "metadata": {},
   "outputs": [],
   "source": [
    "# Generate a private key. It's just a random number with 256 bits"
   ]
  },
  {
   "cell_type": "code",
   "execution_count": 9,
   "metadata": {},
   "outputs": [],
   "source": [
    "keccak_hash = keccak.new(digest_bits=256)"
   ]
  },
  {
   "cell_type": "code",
   "execution_count": 10,
   "metadata": {},
   "outputs": [],
   "source": [
    "very_random_string = \"Hello, World!\""
   ]
  },
  {
   "cell_type": "code",
   "execution_count": 11,
   "metadata": {},
   "outputs": [
    {
     "data": {
      "text/plain": [
       "<Crypto.Hash.keccak.Keccak_Hash at 0x103678d68>"
      ]
     },
     "execution_count": 11,
     "metadata": {},
     "output_type": "execute_result"
    }
   ],
   "source": [
    "keccak_hash.update(very_random_string.encode())"
   ]
  },
  {
   "cell_type": "code",
   "execution_count": 12,
   "metadata": {},
   "outputs": [],
   "source": [
    "private_key = keccak_hash.digest()"
   ]
  },
  {
   "cell_type": "code",
   "execution_count": 13,
   "metadata": {},
   "outputs": [],
   "source": [
    "# In practice, an Ethereum private key must be within a certain range. https://en.bitcoin.it/wiki/Private_key#Range_of_valid_ECDSA_private_keys"
   ]
  },
  {
   "cell_type": "code",
   "execution_count": 14,
   "metadata": {},
   "outputs": [],
   "source": [
    "max_key = 'FFFFFFFFFFFFFFFFFFFFFFFFFFFFFFFEBAAEDCE6AF48A03BBFD25E8CD0364140'\n",
    "assert int.from_bytes(private_key, 'big') <= int(max_key, 16)\n",
    "assert int.from_bytes(private_key, 'big') >= 1"
   ]
  },
  {
   "cell_type": "code",
   "execution_count": 15,
   "metadata": {},
   "outputs": [
    {
     "name": "stdout",
     "output_type": "stream",
     "text": [
      "Private key is acaf3289d7b601cbd114fb36c4d29c85bbfd5e133f14cb355c3fd8d99367964f and of length 32 bytes\n"
     ]
    }
   ],
   "source": [
    "print(\"Private key is {} and of length {} bytes\".format(private_key.hex(), len(private_key)))"
   ]
  },
  {
   "cell_type": "code",
   "execution_count": 16,
   "metadata": {},
   "outputs": [],
   "source": [
    "# Let's define a passphrase"
   ]
  },
  {
   "cell_type": "code",
   "execution_count": 17,
   "metadata": {},
   "outputs": [],
   "source": [
    "passphrase = \"Very secure\""
   ]
  },
  {
   "cell_type": "code",
   "execution_count": 18,
   "metadata": {},
   "outputs": [],
   "source": [
    "salt = bytearray.fromhex(\"99d37a47c7c9429c66976f643f386a61b78b97f3246adca89abe4245d2788407\")"
   ]
  },
  {
   "cell_type": "markdown",
   "metadata": {},
   "source": [
    "number_of_rounds = 262144"
   ]
  },
  {
   "cell_type": "code",
   "execution_count": 19,
   "metadata": {},
   "outputs": [],
   "source": [
    "number_of_rounds = 16"
   ]
  },
  {
   "cell_type": "code",
   "execution_count": 20,
   "metadata": {},
   "outputs": [],
   "source": [
    "# The passhphrase is then stretched to 32 bytes through N rounds of Key Derivation Function: in this case `scrypt`"
   ]
  },
  {
   "cell_type": "code",
   "execution_count": 21,
   "metadata": {},
   "outputs": [],
   "source": [
    "encryption_key = scrypt(passphrase, salt, 32, N=number_of_rounds, r=8, p=1)"
   ]
  },
  {
   "cell_type": "code",
   "execution_count": 22,
   "metadata": {},
   "outputs": [
    {
     "name": "stdout",
     "output_type": "stream",
     "text": [
      "Full encryption key is 8c7c68e4ddfc357d805e2ebd76dac0da162da3a4ce9482dfc96319cfacdbbc6e and of length 32 bytes\n"
     ]
    }
   ],
   "source": [
    "print(\"Full encryption key is {} and of length {} bytes\".format(encryption_key.hex(), len(encryption_key)))"
   ]
  },
  {
   "cell_type": "code",
   "execution_count": 23,
   "metadata": {},
   "outputs": [],
   "source": [
    "# Now we are ready to encode our private key"
   ]
  },
  {
   "cell_type": "code",
   "execution_count": 24,
   "metadata": {},
   "outputs": [],
   "source": [
    "# In this example, we'll be using 128-bit (i.e. 16 bytes) AES encrypytion - counter mode"
   ]
  },
  {
   "cell_type": "code",
   "execution_count": 25,
   "metadata": {},
   "outputs": [],
   "source": [
    "# Our key needs to be shortened to 16 bytes then. We keep the second half for validation purposes"
   ]
  },
  {
   "cell_type": "code",
   "execution_count": 26,
   "metadata": {},
   "outputs": [],
   "source": [
    "validation_key = encryption_key[16:]\n",
    "encryption_key = encryption_key[:16]"
   ]
  },
  {
   "cell_type": "code",
   "execution_count": 27,
   "metadata": {},
   "outputs": [],
   "source": [
    "# Create the counter object"
   ]
  },
  {
   "cell_type": "code",
   "execution_count": 28,
   "metadata": {},
   "outputs": [],
   "source": [
    "iv = bytearray.fromhex(\"d10c6ec5bae81b6cb9144de81037fa15\")"
   ]
  },
  {
   "cell_type": "code",
   "execution_count": 29,
   "metadata": {},
   "outputs": [
    {
     "name": "stdout",
     "output_type": "stream",
     "text": [
      "Using block size of 16 bytes\n"
     ]
    }
   ],
   "source": [
    "iv_int = int.from_bytes(iv, \"big\")\n",
    "print(\"Using block size of {} bytes\".format(AES.block_size))\n",
    "ctr = Counter.new(AES.block_size * 8, initial_value=iv_int)"
   ]
  },
  {
   "cell_type": "code",
   "execution_count": 30,
   "metadata": {},
   "outputs": [],
   "source": [
    "cipher_enc = AES.new(encryption_key, AES.MODE_CTR, counter=ctr)"
   ]
  },
  {
   "cell_type": "code",
   "execution_count": 31,
   "metadata": {},
   "outputs": [],
   "source": [
    "ciphertext = cipher_enc.encrypt(private_key)"
   ]
  },
  {
   "cell_type": "code",
   "execution_count": 32,
   "metadata": {},
   "outputs": [
    {
     "name": "stdout",
     "output_type": "stream",
     "text": [
      "Ciphertext is b4c5ccda033b7521099c6e49d46135fe047445a13827c4c6700d3dd90ea5aff3 and of length 32 bytes\n"
     ]
    }
   ],
   "source": [
    "print(\"Ciphertext is {} and of length {} bytes\".format(ciphertext.hex(), len(ciphertext)))"
   ]
  },
  {
   "cell_type": "code",
   "execution_count": 33,
   "metadata": {},
   "outputs": [],
   "source": [
    "cipher_dec = AES.new(encryption_key, AES.MODE_CTR, counter=ctr)"
   ]
  },
  {
   "cell_type": "code",
   "execution_count": 34,
   "metadata": {},
   "outputs": [],
   "source": [
    "decrypted_key = cipher_dec.decrypt(ciphertext)"
   ]
  },
  {
   "cell_type": "code",
   "execution_count": 35,
   "metadata": {},
   "outputs": [
    {
     "name": "stdout",
     "output_type": "stream",
     "text": [
      "Decrypted private key is acaf3289d7b601cbd114fb36c4d29c85bbfd5e133f14cb355c3fd8d99367964f and of length 32 bytes\n"
     ]
    }
   ],
   "source": [
    "print(\"Decrypted private key is {} and of length {} bytes\".format(decrypted_key.hex(), len(decrypted_key)))"
   ]
  },
  {
   "cell_type": "code",
   "execution_count": 36,
   "metadata": {},
   "outputs": [],
   "source": [
    "# Finally create the MAC - Message Authentication Code"
   ]
  },
  {
   "cell_type": "code",
   "execution_count": 37,
   "metadata": {},
   "outputs": [],
   "source": [
    "keccak_mac = keccak.new(digest_bits=256)\n",
    "mac = keccak_mac.update(validation_key+ciphertext).digest()"
   ]
  },
  {
   "cell_type": "code",
   "execution_count": 38,
   "metadata": {},
   "outputs": [
    {
     "name": "stdout",
     "output_type": "stream",
     "text": [
      "MAC is 7fd3326e8fd7325b7e95477bf7b04532bea423b0d2aa82952ecd8bb7ee368c85\n"
     ]
    }
   ],
   "source": [
    "print(\"MAC is {}\".format(mac.hex()))"
   ]
  },
  {
   "cell_type": "code",
   "execution_count": 39,
   "metadata": {},
   "outputs": [],
   "source": [
    "# Lastly, we need to create the 20 byte Ethereum address"
   ]
  },
  {
   "cell_type": "code",
   "execution_count": 40,
   "metadata": {},
   "outputs": [],
   "source": [
    "# First, we derive the public key from the private key. \n",
    "# It is worth noting that the public key is 64 bytes long (as opposed to a private key of 'only' 32 bytes)"
   ]
  },
  {
   "cell_type": "code",
   "execution_count": 41,
   "metadata": {},
   "outputs": [],
   "source": [
    "public_key = keys.PrivateKey(private_key).public_key.to_bytes()"
   ]
  },
  {
   "cell_type": "code",
   "execution_count": 42,
   "metadata": {},
   "outputs": [
    {
     "name": "stdout",
     "output_type": "stream",
     "text": [
      "Public key is 0bc544ce733e9ba5bd6d98b9ec4076479d3693ff29eed32dc7435ab77651ccae28833cac68200506d29f7752cc191fd32fc43b89264d8ab8ae141e5bfb0d76b6 and of length 64 bytes\n"
     ]
    }
   ],
   "source": [
    "print(\"Public key is {} and of length {} bytes\".format(public_key.hex(), len(public_key)))"
   ]
  },
  {
   "cell_type": "code",
   "execution_count": 43,
   "metadata": {},
   "outputs": [],
   "source": [
    "# Finally, we construct the address from the last 20 bytes of keccak256 hash of the public key"
   ]
  },
  {
   "cell_type": "code",
   "execution_count": 44,
   "metadata": {},
   "outputs": [],
   "source": [
    "keccak_address = keccak.new(digest_bits=256)\n",
    "address = keccak_address.update(public_key).digest()[-20:]"
   ]
  },
  {
   "cell_type": "code",
   "execution_count": 45,
   "metadata": {},
   "outputs": [
    {
     "name": "stdout",
     "output_type": "stream",
     "text": [
      "The Ethereum public address is 046765101f9e8930eaf34664f8f8461d6fbd7e86 and is 20 bytes long\n"
     ]
    }
   ],
   "source": [
    "print(\"The Ethereum public address is {} and is {} bytes long\". format(address.hex(), len(address)))"
   ]
  },
  {
   "cell_type": "code",
   "execution_count": 46,
   "metadata": {},
   "outputs": [],
   "source": [
    "# Putting it all together"
   ]
  },
  {
   "cell_type": "code",
   "execution_count": 47,
   "metadata": {},
   "outputs": [],
   "source": [
    "key_id = str(uuid.uuid4())\n",
    "keystore = {\n",
    "    \"address\": address.hex(),\n",
    "    \"crypto\": {\n",
    "        \"cipher\": \"aes-128-ctr\",\n",
    "        \"ciphertext\": ciphertext.hex(),\n",
    "        \"cipherparams\": {\n",
    "            \"iv\": iv.hex()\n",
    "        },\n",
    "        \"kdf\": \"scrypt\",\n",
    "        \"kdfparams\": {\n",
    "            \"dklen\": 32,\n",
    "            \"n\": number_of_rounds,\n",
    "            \"p\": 1,\n",
    "            \"r\": 8,\n",
    "            \"salt\": salt.hex()\n",
    "        },\n",
    "        \"mac\": mac.hex()\n",
    "    },\n",
    "    \"id\": key_id,\n",
    "    \"version\": 3\n",
    "}"
   ]
  },
  {
   "cell_type": "code",
   "execution_count": 48,
   "metadata": {},
   "outputs": [],
   "source": [
    "with open('keystore.json', 'w+') as f:\n",
    "    json.dump(keystore, f, indent=2)"
   ]
  }
 ],
 "metadata": {
  "kernelspec": {
   "display_name": "Python 3",
   "language": "python",
   "name": "python3"
  },
  "language_info": {
   "codemirror_mode": {
    "name": "ipython",
    "version": 3
   },
   "file_extension": ".py",
   "mimetype": "text/x-python",
   "name": "python",
   "nbconvert_exporter": "python",
   "pygments_lexer": "ipython3",
   "version": "3.7.2"
  }
 },
 "nbformat": 4,
 "nbformat_minor": 4
}
