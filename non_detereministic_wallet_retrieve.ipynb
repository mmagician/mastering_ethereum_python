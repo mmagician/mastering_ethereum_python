{
 "cells": [
  {
   "cell_type": "code",
   "execution_count": 147,
   "metadata": {},
   "outputs": [],
   "source": [
    "# In this script, we'll read in the keystore.json file and retrieve the private key, given a passphrase"
   ]
  },
  {
   "cell_type": "code",
   "execution_count": 148,
   "metadata": {},
   "outputs": [],
   "source": [
    "from Crypto.Hash import keccak"
   ]
  },
  {
   "cell_type": "code",
   "execution_count": 149,
   "metadata": {},
   "outputs": [],
   "source": [
    "from Crypto.Cipher import AES"
   ]
  },
  {
   "cell_type": "code",
   "execution_count": 150,
   "metadata": {},
   "outputs": [],
   "source": [
    "from Crypto.Util import Counter"
   ]
  },
  {
   "cell_type": "code",
   "execution_count": 151,
   "metadata": {},
   "outputs": [],
   "source": [
    "from Crypto.Protocol.KDF import scrypt"
   ]
  },
  {
   "cell_type": "code",
   "execution_count": 152,
   "metadata": {},
   "outputs": [],
   "source": [
    "from eth_keys import keys"
   ]
  },
  {
   "cell_type": "code",
   "execution_count": 153,
   "metadata": {},
   "outputs": [],
   "source": [
    "import json"
   ]
  },
  {
   "cell_type": "code",
   "execution_count": 154,
   "metadata": {},
   "outputs": [],
   "source": [
    "import uuid"
   ]
  },
  {
   "cell_type": "code",
   "execution_count": 155,
   "metadata": {},
   "outputs": [],
   "source": [
    "with open('keystore.json', 'r') as f:\n",
    "    keystore = json.load(f)"
   ]
  },
  {
   "cell_type": "code",
   "execution_count": 156,
   "metadata": {},
   "outputs": [],
   "source": [
    "ciphertext = bytearray.fromhex(keystore[\"crypto\"][\"ciphertext\"])"
   ]
  },
  {
   "cell_type": "code",
   "execution_count": 157,
   "metadata": {},
   "outputs": [],
   "source": [
    "iv = bytearray.fromhex(keystore[\"crypto\"][\"cipherparams\"][\"iv\"])\n",
    "number_of_rounds = keystore[\"crypto\"][\"kdfparams\"][\"n\"]\n",
    "r =  keystore[\"crypto\"][\"kdfparams\"][\"r\"]\n",
    "p =  keystore[\"crypto\"][\"kdfparams\"][\"p\"]\n",
    "dklen = keystore[\"crypto\"][\"kdfparams\"][\"dklen\"]\n",
    "salt = keystore[\"crypto\"][\"kdfparams\"][\"salt\"]"
   ]
  },
  {
   "cell_type": "code",
   "execution_count": 158,
   "metadata": {},
   "outputs": [],
   "source": [
    "passphrase = \"Not secure\""
   ]
  },
  {
   "cell_type": "code",
   "execution_count": 172,
   "metadata": {},
   "outputs": [],
   "source": [
    "original_encryption_key = scrypt(passphrase, bytearray.fromhex(salt), dklen, N=number_of_rounds, r=r, p=p)"
   ]
  },
  {
   "cell_type": "code",
   "execution_count": 173,
   "metadata": {},
   "outputs": [
    {
     "name": "stdout",
     "output_type": "stream",
     "text": [
      "Encryption key is 14256322ad2cf22311ec9c58e7904c69\n"
     ]
    }
   ],
   "source": [
    "print(\"Encryption key is {}\".format(encryption_key.hex()))"
   ]
  },
  {
   "cell_type": "code",
   "execution_count": 174,
   "metadata": {},
   "outputs": [
    {
     "name": "stdout",
     "output_type": "stream",
     "text": [
      "Using block size of 16 bytes\n"
     ]
    }
   ],
   "source": [
    "iv_int = int.from_bytes(iv, \"big\")\n",
    "print(\"Using block size of {} bytes\".format(AES.block_size))\n",
    "ctr = Counter.new(AES.block_size * 8, initial_value=iv_int)"
   ]
  },
  {
   "cell_type": "code",
   "execution_count": 175,
   "metadata": {},
   "outputs": [],
   "source": [
    "# Only the first part of the original key is used for decryption\n",
    "encryption_key = original_encryption_key[:16]"
   ]
  },
  {
   "cell_type": "code",
   "execution_count": 176,
   "metadata": {},
   "outputs": [],
   "source": [
    "cipher_dec = AES.new(encryption_key, AES.MODE_CTR, counter=ctr)"
   ]
  },
  {
   "cell_type": "code",
   "execution_count": 177,
   "metadata": {},
   "outputs": [],
   "source": [
    "decrypted_key = cipher_dec.decrypt(ciphertext)"
   ]
  },
  {
   "cell_type": "code",
   "execution_count": 178,
   "metadata": {},
   "outputs": [
    {
     "name": "stdout",
     "output_type": "stream",
     "text": [
      "Decrypted key is acaf3289d7b601cbd114fb36c4d29c85bbfd5e133f14cb355c3fd8d99367964f\n"
     ]
    }
   ],
   "source": [
    "print(\"Decrypted key is {}\".format(decrypted_key.hex()))"
   ]
  },
  {
   "cell_type": "code",
   "execution_count": 179,
   "metadata": {},
   "outputs": [],
   "source": [
    "# Upssss, you notice that your private key unlocked an empty wallet! Perhaps something's gone wrong during the decryption process?"
   ]
  },
  {
   "cell_type": "code",
   "execution_count": 180,
   "metadata": {},
   "outputs": [],
   "source": [
    "# Let's double check if our decryption key is correct. We can check it against the mac address\n",
    "mac_from_keyfile = bytearray.fromhex(keystore[\"crypto\"][\"mac\"])"
   ]
  },
  {
   "cell_type": "code",
   "execution_count": 181,
   "metadata": {},
   "outputs": [],
   "source": [
    "keccak_mac = keccak.new(digest_bits=256)\n",
    "computed_mac = keccak_mac.update(original_encryption_key[16:]+ciphertext).digest()"
   ]
  },
  {
   "cell_type": "code",
   "execution_count": 182,
   "metadata": {},
   "outputs": [
    {
     "name": "stdout",
     "output_type": "stream",
     "text": [
      "The MAC we found was: \n",
      "7fd3326e8fd7325b7e95477bf7b04532bea423b0d2aa82952ecd8bb7ee368c85 \n",
      "while the computed MAC is: \n",
      "7fd3326e8fd7325b7e95477bf7b04532bea423b0d2aa82952ecd8bb7ee368c85\n",
      "MACs match: True\n"
     ]
    }
   ],
   "source": [
    "print(\"The MAC we found was: \\n{} \\nwhile the computed MAC is: \\n{}\".format(mac_from_keyfile.hex(), computed_mac.hex()))\n",
    "print(\"MACs match: {}\".format(mac_from_keyfile==computed_mac))"
   ]
  },
  {
   "cell_type": "code",
   "execution_count": 184,
   "metadata": {},
   "outputs": [],
   "source": [
    "# So perhaps we provided the wrong passphrase?"
   ]
  },
  {
   "cell_type": "code",
   "execution_count": 185,
   "metadata": {},
   "outputs": [],
   "source": [
    "passphrase = \"Very secure\""
   ]
  },
  {
   "cell_type": "code",
   "execution_count": 186,
   "metadata": {},
   "outputs": [],
   "source": [
    "# Re-run all the cells below the original declaration of passphrase and voilà"
   ]
  },
  {
   "cell_type": "code",
   "execution_count": null,
   "metadata": {},
   "outputs": [],
   "source": []
  }
 ],
 "metadata": {
  "kernelspec": {
   "display_name": "Python 3",
   "language": "python",
   "name": "python3"
  },
  "language_info": {
   "codemirror_mode": {
    "name": "ipython",
    "version": 3
   },
   "file_extension": ".py",
   "mimetype": "text/x-python",
   "name": "python",
   "nbconvert_exporter": "python",
   "pygments_lexer": "ipython3",
   "version": "3.7.2"
  }
 },
 "nbformat": 4,
 "nbformat_minor": 4
}
